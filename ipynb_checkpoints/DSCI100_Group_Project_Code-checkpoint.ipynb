{
 "cells": [
  {
   "cell_type": "code",
   "execution_count": 2,
   "id": "32b0f39a-1b00-460f-af27-d8a84e79ad06",
   "metadata": {},
   "outputs": [
    {
     "name": "stderr",
     "output_type": "stream",
     "text": [
      "Loading required package: recipes\n",
      "\n",
      "Loading required package: dplyr\n",
      "\n",
      "\n",
      "Attaching package: ‘dplyr’\n",
      "\n",
      "\n",
      "The following objects are masked from ‘package:stats’:\n",
      "\n",
      "    filter, lag\n",
      "\n",
      "\n",
      "The following objects are masked from ‘package:base’:\n",
      "\n",
      "    intersect, setdiff, setequal, union\n",
      "\n",
      "\n",
      "\n",
      "Attaching package: ‘recipes’\n",
      "\n",
      "\n",
      "The following object is masked from ‘package:stats’:\n",
      "\n",
      "    step\n",
      "\n",
      "\n",
      "── \u001b[1mAttaching core tidyverse packages\u001b[22m ──────────────────────── tidyverse 2.0.0 ──\n",
      "\u001b[32m✔\u001b[39m \u001b[34mforcats  \u001b[39m 1.0.0     \u001b[32m✔\u001b[39m \u001b[34mreadr    \u001b[39m 2.1.5\n",
      "\u001b[32m✔\u001b[39m \u001b[34mggplot2  \u001b[39m 3.5.1     \u001b[32m✔\u001b[39m \u001b[34mstringr  \u001b[39m 1.5.1\n",
      "\u001b[32m✔\u001b[39m \u001b[34mlubridate\u001b[39m 1.9.3     \u001b[32m✔\u001b[39m \u001b[34mtibble   \u001b[39m 3.2.1\n",
      "\u001b[32m✔\u001b[39m \u001b[34mpurrr    \u001b[39m 1.0.2     \u001b[32m✔\u001b[39m \u001b[34mtidyr    \u001b[39m 1.3.1\n",
      "── \u001b[1mConflicts\u001b[22m ────────────────────────────────────────── tidyverse_conflicts() ──\n",
      "\u001b[31m✖\u001b[39m \u001b[34mdplyr\u001b[39m::\u001b[32mfilter()\u001b[39m  masks \u001b[34mstats\u001b[39m::filter()\n",
      "\u001b[31m✖\u001b[39m \u001b[34mstringr\u001b[39m::\u001b[32mfixed()\u001b[39m masks \u001b[34mrecipes\u001b[39m::fixed()\n",
      "\u001b[31m✖\u001b[39m \u001b[34mdplyr\u001b[39m::\u001b[32mlag()\u001b[39m     masks \u001b[34mstats\u001b[39m::lag()\n",
      "\u001b[36mℹ\u001b[39m Use the conflicted package (\u001b[3m\u001b[34m<http://conflicted.r-lib.org/>\u001b[39m\u001b[23m) to force all conflicts to become errors\n",
      "── \u001b[1mAttaching packages\u001b[22m ────────────────────────────────────── tidymodels 1.1.1 ──\n",
      "\n",
      "\u001b[32m✔\u001b[39m \u001b[34mbroom       \u001b[39m 1.0.6     \u001b[32m✔\u001b[39m \u001b[34mrsample     \u001b[39m 1.2.1\n",
      "\u001b[32m✔\u001b[39m \u001b[34mdials       \u001b[39m 1.3.0     \u001b[32m✔\u001b[39m \u001b[34mtune        \u001b[39m 1.1.2\n",
      "\u001b[32m✔\u001b[39m \u001b[34minfer       \u001b[39m 1.0.7     \u001b[32m✔\u001b[39m \u001b[34mworkflows   \u001b[39m 1.1.4\n",
      "\u001b[32m✔\u001b[39m \u001b[34mmodeldata   \u001b[39m 1.4.0     \u001b[32m✔\u001b[39m \u001b[34mworkflowsets\u001b[39m 1.0.1\n",
      "\u001b[32m✔\u001b[39m \u001b[34mparsnip     \u001b[39m 1.2.1     \u001b[32m✔\u001b[39m \u001b[34myardstick   \u001b[39m 1.3.1\n",
      "\n",
      "── \u001b[1mConflicts\u001b[22m ───────────────────────────────────────── tidymodels_conflicts() ──\n",
      "\u001b[31m✖\u001b[39m \u001b[34mscales\u001b[39m::\u001b[32mdiscard()\u001b[39m masks \u001b[34mpurrr\u001b[39m::discard()\n",
      "\u001b[31m✖\u001b[39m \u001b[34mdplyr\u001b[39m::\u001b[32mfilter()\u001b[39m   masks \u001b[34mstats\u001b[39m::filter()\n",
      "\u001b[31m✖\u001b[39m \u001b[34mstringr\u001b[39m::\u001b[32mfixed()\u001b[39m  masks \u001b[34mrecipes\u001b[39m::fixed()\n",
      "\u001b[31m✖\u001b[39m \u001b[34mdplyr\u001b[39m::\u001b[32mlag()\u001b[39m      masks \u001b[34mstats\u001b[39m::lag()\n",
      "\u001b[31m✖\u001b[39m \u001b[34myardstick\u001b[39m::\u001b[32mspec()\u001b[39m masks \u001b[34mreadr\u001b[39m::spec()\n",
      "\u001b[31m✖\u001b[39m \u001b[34mrecipes\u001b[39m::\u001b[32mstep()\u001b[39m   masks \u001b[34mstats\u001b[39m::step()\n",
      "\u001b[34m•\u001b[39m Learn how to get started at \u001b[32mhttps://www.tidymodels.org/start/\u001b[39m\n",
      "\n"
     ]
    }
   ],
   "source": [
    "#load the necessary packages\n",
    "library(repr)\n",
    "library(themis)\n",
    "library(tidyverse)\n",
    "library(tidymodels)\n",
    "options(repr.matrix.max.rows = 10)"
   ]
  },
  {
   "cell_type": "code",
   "execution_count": 3,
   "id": "0b37c73d-a139-4d15-b2c1-0399d6dc6f0e",
   "metadata": {
    "editable": true,
    "slideshow": {
     "slide_type": ""
    },
    "tags": []
   },
   "outputs": [
    {
     "name": "stderr",
     "output_type": "stream",
     "text": [
      "\u001b[1mRows: \u001b[22m\u001b[34m196\u001b[39m \u001b[1mColumns: \u001b[22m\u001b[34m9\u001b[39m\n",
      "\u001b[36m──\u001b[39m \u001b[1mColumn specification\u001b[22m \u001b[36m────────────────────────────────────────────────────────\u001b[39m\n",
      "\u001b[1mDelimiter:\u001b[22m \",\"\n",
      "\u001b[31mchr\u001b[39m (4): experience, hashedEmail, name, gender\n",
      "\u001b[32mdbl\u001b[39m (2): played_hours, age\n",
      "\u001b[33mlgl\u001b[39m (3): subscribe, individualId, organizationName\n",
      "\n",
      "\u001b[36mℹ\u001b[39m Use `spec()` to retrieve the full column specification for this data.\n",
      "\u001b[36mℹ\u001b[39m Specify the column types or set `show_col_types = FALSE` to quiet this message.\n"
     ]
    }
   ],
   "source": [
    "#load the players data set\n",
    "url <- \"https://drive.google.com/uc?export=download&id=1Mw9vW0hjTJwRWx0bDXiSpYsO3gKogaPz\"\n",
    "players <- read_csv(url)"
   ]
  },
  {
   "cell_type": "code",
   "execution_count": 4,
   "id": "e4134eeb-1bec-4105-916c-41222b539863",
   "metadata": {},
   "outputs": [
    {
     "data": {
      "text/html": [
       "5"
      ],
      "text/latex": [
       "5"
      ],
      "text/markdown": [
       "5"
      ],
      "text/plain": [
       "[1] 5"
      ]
     },
     "metadata": {},
     "output_type": "display_data"
    },
    {
     "data": {
      "text/html": [
       "<table class=\"dataframe\">\n",
       "<caption>A tibble: 196 × 5</caption>\n",
       "<thead>\n",
       "\t<tr><th scope=col>experience</th><th scope=col>subscribe</th><th scope=col>played_hours</th><th scope=col>gender</th><th scope=col>age</th></tr>\n",
       "\t<tr><th scope=col>&lt;chr&gt;</th><th scope=col>&lt;lgl&gt;</th><th scope=col>&lt;dbl&gt;</th><th scope=col>&lt;chr&gt;</th><th scope=col>&lt;dbl&gt;</th></tr>\n",
       "</thead>\n",
       "<tbody>\n",
       "\t<tr><td>Pro    </td><td> TRUE</td><td>30.3</td><td>Male  </td><td> 9</td></tr>\n",
       "\t<tr><td>Veteran</td><td> TRUE</td><td> 3.8</td><td>Male  </td><td>17</td></tr>\n",
       "\t<tr><td>Veteran</td><td>FALSE</td><td> 0.0</td><td>Male  </td><td>17</td></tr>\n",
       "\t<tr><td>Amateur</td><td> TRUE</td><td> 0.7</td><td>Female</td><td>21</td></tr>\n",
       "\t<tr><td>Regular</td><td> TRUE</td><td> 0.1</td><td>Male  </td><td>21</td></tr>\n",
       "\t<tr><td>⋮</td><td>⋮</td><td>⋮</td><td>⋮</td><td>⋮</td></tr>\n",
       "\t<tr><td>Amateur</td><td> TRUE</td><td>0.0</td><td>Female           </td><td>17</td></tr>\n",
       "\t<tr><td>Veteran</td><td>FALSE</td><td>0.3</td><td>Male             </td><td>22</td></tr>\n",
       "\t<tr><td>Amateur</td><td>FALSE</td><td>0.0</td><td>Prefer not to say</td><td>17</td></tr>\n",
       "\t<tr><td>Amateur</td><td>FALSE</td><td>2.3</td><td>Male             </td><td>17</td></tr>\n",
       "\t<tr><td>Pro    </td><td> TRUE</td><td>0.2</td><td>Other            </td><td>91</td></tr>\n",
       "</tbody>\n",
       "</table>\n"
      ],
      "text/latex": [
       "A tibble: 196 × 5\n",
       "\\begin{tabular}{lllll}\n",
       " experience & subscribe & played\\_hours & gender & age\\\\\n",
       " <chr> & <lgl> & <dbl> & <chr> & <dbl>\\\\\n",
       "\\hline\n",
       "\t Pro     &  TRUE & 30.3 & Male   &  9\\\\\n",
       "\t Veteran &  TRUE &  3.8 & Male   & 17\\\\\n",
       "\t Veteran & FALSE &  0.0 & Male   & 17\\\\\n",
       "\t Amateur &  TRUE &  0.7 & Female & 21\\\\\n",
       "\t Regular &  TRUE &  0.1 & Male   & 21\\\\\n",
       "\t ⋮ & ⋮ & ⋮ & ⋮ & ⋮\\\\\n",
       "\t Amateur &  TRUE & 0.0 & Female            & 17\\\\\n",
       "\t Veteran & FALSE & 0.3 & Male              & 22\\\\\n",
       "\t Amateur & FALSE & 0.0 & Prefer not to say & 17\\\\\n",
       "\t Amateur & FALSE & 2.3 & Male              & 17\\\\\n",
       "\t Pro     &  TRUE & 0.2 & Other             & 91\\\\\n",
       "\\end{tabular}\n"
      ],
      "text/markdown": [
       "\n",
       "A tibble: 196 × 5\n",
       "\n",
       "| experience &lt;chr&gt; | subscribe &lt;lgl&gt; | played_hours &lt;dbl&gt; | gender &lt;chr&gt; | age &lt;dbl&gt; |\n",
       "|---|---|---|---|---|\n",
       "| Pro     |  TRUE | 30.3 | Male   |  9 |\n",
       "| Veteran |  TRUE |  3.8 | Male   | 17 |\n",
       "| Veteran | FALSE |  0.0 | Male   | 17 |\n",
       "| Amateur |  TRUE |  0.7 | Female | 21 |\n",
       "| Regular |  TRUE |  0.1 | Male   | 21 |\n",
       "| ⋮ | ⋮ | ⋮ | ⋮ | ⋮ |\n",
       "| Amateur |  TRUE | 0.0 | Female            | 17 |\n",
       "| Veteran | FALSE | 0.3 | Male              | 22 |\n",
       "| Amateur | FALSE | 0.0 | Prefer not to say | 17 |\n",
       "| Amateur | FALSE | 2.3 | Male              | 17 |\n",
       "| Pro     |  TRUE | 0.2 | Other             | 91 |\n",
       "\n"
      ],
      "text/plain": [
       "    experience subscribe played_hours gender            age\n",
       "1   Pro         TRUE     30.3         Male               9 \n",
       "2   Veteran     TRUE      3.8         Male              17 \n",
       "3   Veteran    FALSE      0.0         Male              17 \n",
       "4   Amateur     TRUE      0.7         Female            21 \n",
       "5   Regular     TRUE      0.1         Male              21 \n",
       "⋮   ⋮          ⋮         ⋮            ⋮                 ⋮  \n",
       "192 Amateur     TRUE     0.0          Female            17 \n",
       "193 Veteran    FALSE     0.3          Male              22 \n",
       "194 Amateur    FALSE     0.0          Prefer not to say 17 \n",
       "195 Amateur    FALSE     2.3          Male              17 \n",
       "196 Pro         TRUE     0.2          Other             91 "
      ]
     },
     "metadata": {},
     "output_type": "display_data"
    }
   ],
   "source": [
    "#convert the players data set into a tidy format by removing unnecessary columns\n",
    "players_tidy <- players |> \n",
    "    select(experience:age, -hashedEmail, -name) #|> #removed the hashedEmail and name columns\n",
    "    head(5) #print only the first 5 rows of the data set\n",
    "players_tidy"
   ]
  },
  {
   "cell_type": "code",
   "execution_count": 5,
   "id": "ef687e5d-028a-4369-a931-769f81fa5582",
   "metadata": {},
   "outputs": [
    {
     "name": "stdout",
     "output_type": "stream",
     "text": [
      "[1] \"The average number of played hours: 5.84591836734694\"\n"
     ]
    }
   ],
   "source": [
    "#calculate the average number of played hours to determine a boundary separating high and low contributors\n",
    "average_played_hours <- players_tidy |>\n",
    "  summarize(avg_hours = mean(played_hours, na.rm = TRUE)) |>\n",
    "    pull()\n",
    "\n",
    "\n",
    "print(paste(\"The average number of played hours:\", average_played_hours))"
   ]
  },
  {
   "cell_type": "markdown",
   "id": "1ded4190-903d-47de-abb7-5f9c3834ea6a",
   "metadata": {},
   "source": [
    "The above code output reveals that the average number of played hours in the players data set is 5.85 hours. Therefore, we will classify players who contributed 5.85 hours or more as \"High Contributors\" and players who contributed less than 5.85 hours as \"Low Contributors.\""
   ]
  },
  {
   "cell_type": "code",
   "execution_count": 6,
   "id": "5ce0a84c-ac6b-410e-abdd-220d76b70b58",
   "metadata": {},
   "outputs": [],
   "source": [
    "#convert the character variables to factor variables so they can be used as categories for KNN classification\n",
    "players_tidy <- players_tidy |> \n",
    "    mutate(experience = as.factor(experience), \n",
    "           gender = as.factor(gender))"
   ]
  },
  {
   "cell_type": "code",
   "execution_count": 7,
   "id": "90effde2-5b41-409a-8b4f-e63437294f60",
   "metadata": {},
   "outputs": [],
   "source": [
    "#assign numerical values to the experience, and gender variables so they can be used to calculate distances between points in KNN classification\n",
    "players_tidy <- players_tidy |> \n",
    "    mutate(experience = as.numeric(experience), \n",
    "           gender = as.numeric(gender))"
   ]
  },
  {
   "cell_type": "code",
   "execution_count": 8,
   "id": "a792307a-337c-4308-a3d3-a011fd5aad78",
   "metadata": {},
   "outputs": [],
   "source": [
    "#assign a contributor label to each played hours value\n",
    "players_tidy <- players_tidy |> \n",
    "    mutate(contributor = factor(ifelse(played_hours > average_played_hours, \"High Contributor\", \"Low Contributor\"))) "
   ]
  },
  {
   "cell_type": "code",
   "execution_count": 9,
   "id": "82b58bf7-355b-4f4c-b89e-4c682a2292b0",
   "metadata": {},
   "outputs": [
    {
     "data": {
      "text/html": [
       "<table class=\"dataframe\">\n",
       "<caption>A tibble: 6 × 6</caption>\n",
       "<thead>\n",
       "\t<tr><th scope=col>experience</th><th scope=col>subscribe</th><th scope=col>played_hours</th><th scope=col>gender</th><th scope=col>age</th><th scope=col>contributor</th></tr>\n",
       "\t<tr><th scope=col>&lt;dbl&gt;</th><th scope=col>&lt;lgl&gt;</th><th scope=col>&lt;dbl&gt;</th><th scope=col>&lt;dbl&gt;</th><th scope=col>&lt;dbl&gt;</th><th scope=col>&lt;fct&gt;</th></tr>\n",
       "</thead>\n",
       "<tbody>\n",
       "\t<tr><td>3</td><td> TRUE</td><td>30.3</td><td>3</td><td> 9</td><td>High Contributor</td></tr>\n",
       "\t<tr><td>5</td><td> TRUE</td><td> 3.8</td><td>3</td><td>17</td><td>Low Contributor </td></tr>\n",
       "\t<tr><td>5</td><td>FALSE</td><td> 0.0</td><td>3</td><td>17</td><td>Low Contributor </td></tr>\n",
       "\t<tr><td>1</td><td> TRUE</td><td> 0.7</td><td>2</td><td>21</td><td>Low Contributor </td></tr>\n",
       "\t<tr><td>4</td><td> TRUE</td><td> 0.1</td><td>3</td><td>21</td><td>Low Contributor </td></tr>\n",
       "\t<tr><td>1</td><td> TRUE</td><td> 0.0</td><td>2</td><td>17</td><td>Low Contributor </td></tr>\n",
       "</tbody>\n",
       "</table>\n"
      ],
      "text/latex": [
       "A tibble: 6 × 6\n",
       "\\begin{tabular}{llllll}\n",
       " experience & subscribe & played\\_hours & gender & age & contributor\\\\\n",
       " <dbl> & <lgl> & <dbl> & <dbl> & <dbl> & <fct>\\\\\n",
       "\\hline\n",
       "\t 3 &  TRUE & 30.3 & 3 &  9 & High Contributor\\\\\n",
       "\t 5 &  TRUE &  3.8 & 3 & 17 & Low Contributor \\\\\n",
       "\t 5 & FALSE &  0.0 & 3 & 17 & Low Contributor \\\\\n",
       "\t 1 &  TRUE &  0.7 & 2 & 21 & Low Contributor \\\\\n",
       "\t 4 &  TRUE &  0.1 & 3 & 21 & Low Contributor \\\\\n",
       "\t 1 &  TRUE &  0.0 & 2 & 17 & Low Contributor \\\\\n",
       "\\end{tabular}\n"
      ],
      "text/markdown": [
       "\n",
       "A tibble: 6 × 6\n",
       "\n",
       "| experience &lt;dbl&gt; | subscribe &lt;lgl&gt; | played_hours &lt;dbl&gt; | gender &lt;dbl&gt; | age &lt;dbl&gt; | contributor &lt;fct&gt; |\n",
       "|---|---|---|---|---|---|\n",
       "| 3 |  TRUE | 30.3 | 3 |  9 | High Contributor |\n",
       "| 5 |  TRUE |  3.8 | 3 | 17 | Low Contributor  |\n",
       "| 5 | FALSE |  0.0 | 3 | 17 | Low Contributor  |\n",
       "| 1 |  TRUE |  0.7 | 2 | 21 | Low Contributor  |\n",
       "| 4 |  TRUE |  0.1 | 3 | 21 | Low Contributor  |\n",
       "| 1 |  TRUE |  0.0 | 2 | 17 | Low Contributor  |\n",
       "\n"
      ],
      "text/plain": [
       "  experience subscribe played_hours gender age contributor     \n",
       "1 3           TRUE     30.3         3       9  High Contributor\n",
       "2 5           TRUE      3.8         3      17  Low Contributor \n",
       "3 5          FALSE      0.0         3      17  Low Contributor \n",
       "4 1           TRUE      0.7         2      21  Low Contributor \n",
       "5 4           TRUE      0.1         3      21  Low Contributor \n",
       "6 1           TRUE      0.0         2      17  Low Contributor "
      ]
     },
     "metadata": {},
     "output_type": "display_data"
    }
   ],
   "source": [
    "#test if this works (can delete later) \n",
    "head(players_tidy)"
   ]
  },
  {
   "cell_type": "code",
   "execution_count": 10,
   "id": "d30ae4c3-e699-46b0-b959-29536010780f",
   "metadata": {},
   "outputs": [
    {
     "data": {
      "text/html": [
       "<table class=\"dataframe\">\n",
       "<caption>A tibble: 176 × 6</caption>\n",
       "<thead>\n",
       "\t<tr><th scope=col>experience</th><th scope=col>subscribe</th><th scope=col>played_hours</th><th scope=col>gender</th><th scope=col>age</th><th scope=col>contributor</th></tr>\n",
       "\t<tr><th scope=col>&lt;dbl&gt;</th><th scope=col>&lt;lgl&gt;</th><th scope=col>&lt;dbl&gt;</th><th scope=col>&lt;dbl&gt;</th><th scope=col>&lt;dbl&gt;</th><th scope=col>&lt;fct&gt;</th></tr>\n",
       "</thead>\n",
       "<tbody>\n",
       "\t<tr><td>3</td><td> TRUE</td><td>30.3</td><td>3</td><td> 9</td><td>High Contributor</td></tr>\n",
       "\t<tr><td>5</td><td> TRUE</td><td> 3.8</td><td>3</td><td>17</td><td>Low Contributor </td></tr>\n",
       "\t<tr><td>5</td><td>FALSE</td><td> 0.0</td><td>3</td><td>17</td><td>Low Contributor </td></tr>\n",
       "\t<tr><td>1</td><td> TRUE</td><td> 0.7</td><td>2</td><td>21</td><td>Low Contributor </td></tr>\n",
       "\t<tr><td>4</td><td> TRUE</td><td> 0.1</td><td>3</td><td>21</td><td>Low Contributor </td></tr>\n",
       "\t<tr><td>⋮</td><td>⋮</td><td>⋮</td><td>⋮</td><td>⋮</td><td>⋮</td></tr>\n",
       "\t<tr><td>1</td><td> TRUE</td><td>0.0</td><td>2</td><td>17</td><td>Low Contributor</td></tr>\n",
       "\t<tr><td>5</td><td>FALSE</td><td>0.3</td><td>3</td><td>22</td><td>Low Contributor</td></tr>\n",
       "\t<tr><td>1</td><td>FALSE</td><td>0.0</td><td>6</td><td>17</td><td>Low Contributor</td></tr>\n",
       "\t<tr><td>1</td><td>FALSE</td><td>2.3</td><td>3</td><td>17</td><td>Low Contributor</td></tr>\n",
       "\t<tr><td>3</td><td> TRUE</td><td>0.2</td><td>5</td><td>91</td><td>Low Contributor</td></tr>\n",
       "</tbody>\n",
       "</table>\n"
      ],
      "text/latex": [
       "A tibble: 176 × 6\n",
       "\\begin{tabular}{llllll}\n",
       " experience & subscribe & played\\_hours & gender & age & contributor\\\\\n",
       " <dbl> & <lgl> & <dbl> & <dbl> & <dbl> & <fct>\\\\\n",
       "\\hline\n",
       "\t 3 &  TRUE & 30.3 & 3 &  9 & High Contributor\\\\\n",
       "\t 5 &  TRUE &  3.8 & 3 & 17 & Low Contributor \\\\\n",
       "\t 5 & FALSE &  0.0 & 3 & 17 & Low Contributor \\\\\n",
       "\t 1 &  TRUE &  0.7 & 2 & 21 & Low Contributor \\\\\n",
       "\t 4 &  TRUE &  0.1 & 3 & 21 & Low Contributor \\\\\n",
       "\t ⋮ & ⋮ & ⋮ & ⋮ & ⋮ & ⋮\\\\\n",
       "\t 1 &  TRUE & 0.0 & 2 & 17 & Low Contributor\\\\\n",
       "\t 5 & FALSE & 0.3 & 3 & 22 & Low Contributor\\\\\n",
       "\t 1 & FALSE & 0.0 & 6 & 17 & Low Contributor\\\\\n",
       "\t 1 & FALSE & 2.3 & 3 & 17 & Low Contributor\\\\\n",
       "\t 3 &  TRUE & 0.2 & 5 & 91 & Low Contributor\\\\\n",
       "\\end{tabular}\n"
      ],
      "text/markdown": [
       "\n",
       "A tibble: 176 × 6\n",
       "\n",
       "| experience &lt;dbl&gt; | subscribe &lt;lgl&gt; | played_hours &lt;dbl&gt; | gender &lt;dbl&gt; | age &lt;dbl&gt; | contributor &lt;fct&gt; |\n",
       "|---|---|---|---|---|---|\n",
       "| 3 |  TRUE | 30.3 | 3 |  9 | High Contributor |\n",
       "| 5 |  TRUE |  3.8 | 3 | 17 | Low Contributor  |\n",
       "| 5 | FALSE |  0.0 | 3 | 17 | Low Contributor  |\n",
       "| 1 |  TRUE |  0.7 | 2 | 21 | Low Contributor  |\n",
       "| 4 |  TRUE |  0.1 | 3 | 21 | Low Contributor  |\n",
       "| ⋮ | ⋮ | ⋮ | ⋮ | ⋮ | ⋮ |\n",
       "| 1 |  TRUE | 0.0 | 2 | 17 | Low Contributor |\n",
       "| 5 | FALSE | 0.3 | 3 | 22 | Low Contributor |\n",
       "| 1 | FALSE | 0.0 | 6 | 17 | Low Contributor |\n",
       "| 1 | FALSE | 2.3 | 3 | 17 | Low Contributor |\n",
       "| 3 |  TRUE | 0.2 | 5 | 91 | Low Contributor |\n",
       "\n"
      ],
      "text/plain": [
       "    experience subscribe played_hours gender age contributor     \n",
       "1   3           TRUE     30.3         3       9  High Contributor\n",
       "2   5           TRUE      3.8         3      17  Low Contributor \n",
       "3   5          FALSE      0.0         3      17  Low Contributor \n",
       "4   1           TRUE      0.7         2      21  Low Contributor \n",
       "5   4           TRUE      0.1         3      21  Low Contributor \n",
       "⋮   ⋮          ⋮         ⋮            ⋮      ⋮   ⋮               \n",
       "172 1           TRUE     0.0          2      17  Low Contributor \n",
       "173 5          FALSE     0.3          3      22  Low Contributor \n",
       "174 1          FALSE     0.0          6      17  Low Contributor \n",
       "175 1          FALSE     2.3          3      17  Low Contributor \n",
       "176 3           TRUE     0.2          5      91  Low Contributor "
      ]
     },
     "metadata": {},
     "output_type": "display_data"
    },
    {
     "data": {
      "text/html": [
       "<table class=\"dataframe\">\n",
       "<caption>A tibble: 20 × 6</caption>\n",
       "<thead>\n",
       "\t<tr><th scope=col>experience</th><th scope=col>subscribe</th><th scope=col>played_hours</th><th scope=col>gender</th><th scope=col>age</th><th scope=col>contributor</th></tr>\n",
       "\t<tr><th scope=col>&lt;dbl&gt;</th><th scope=col>&lt;lgl&gt;</th><th scope=col>&lt;dbl&gt;</th><th scope=col>&lt;dbl&gt;</th><th scope=col>&lt;dbl&gt;</th><th scope=col>&lt;fct&gt;</th></tr>\n",
       "</thead>\n",
       "<tbody>\n",
       "\t<tr><td>4</td><td>TRUE</td><td>  0.0</td><td>2</td><td>19</td><td>Low Contributor </td></tr>\n",
       "\t<tr><td>2</td><td>TRUE</td><td>  0.0</td><td>2</td><td>17</td><td>Low Contributor </td></tr>\n",
       "\t<tr><td>2</td><td>TRUE</td><td>  1.0</td><td>3</td><td>17</td><td>Low Contributor </td></tr>\n",
       "\t<tr><td>5</td><td>TRUE</td><td>  2.2</td><td>3</td><td>24</td><td>Low Contributor </td></tr>\n",
       "\t<tr><td>4</td><td>TRUE</td><td>218.1</td><td>4</td><td>20</td><td>High Contributor</td></tr>\n",
       "\t<tr><td>⋮</td><td>⋮</td><td>⋮</td><td>⋮</td><td>⋮</td><td>⋮</td></tr>\n",
       "\t<tr><td>5</td><td> TRUE</td><td>0.0</td><td>3</td><td>17</td><td>Low Contributor</td></tr>\n",
       "\t<tr><td>1</td><td>FALSE</td><td>2.1</td><td>3</td><td>24</td><td>Low Contributor</td></tr>\n",
       "\t<tr><td>4</td><td>FALSE</td><td>0.1</td><td>3</td><td>18</td><td>Low Contributor</td></tr>\n",
       "\t<tr><td>5</td><td> TRUE</td><td>0.1</td><td>2</td><td>44</td><td>Low Contributor</td></tr>\n",
       "\t<tr><td>1</td><td> TRUE</td><td>0.0</td><td>3</td><td>17</td><td>Low Contributor</td></tr>\n",
       "</tbody>\n",
       "</table>\n"
      ],
      "text/latex": [
       "A tibble: 20 × 6\n",
       "\\begin{tabular}{llllll}\n",
       " experience & subscribe & played\\_hours & gender & age & contributor\\\\\n",
       " <dbl> & <lgl> & <dbl> & <dbl> & <dbl> & <fct>\\\\\n",
       "\\hline\n",
       "\t 4 & TRUE &   0.0 & 2 & 19 & Low Contributor \\\\\n",
       "\t 2 & TRUE &   0.0 & 2 & 17 & Low Contributor \\\\\n",
       "\t 2 & TRUE &   1.0 & 3 & 17 & Low Contributor \\\\\n",
       "\t 5 & TRUE &   2.2 & 3 & 24 & Low Contributor \\\\\n",
       "\t 4 & TRUE & 218.1 & 4 & 20 & High Contributor\\\\\n",
       "\t ⋮ & ⋮ & ⋮ & ⋮ & ⋮ & ⋮\\\\\n",
       "\t 5 &  TRUE & 0.0 & 3 & 17 & Low Contributor\\\\\n",
       "\t 1 & FALSE & 2.1 & 3 & 24 & Low Contributor\\\\\n",
       "\t 4 & FALSE & 0.1 & 3 & 18 & Low Contributor\\\\\n",
       "\t 5 &  TRUE & 0.1 & 2 & 44 & Low Contributor\\\\\n",
       "\t 1 &  TRUE & 0.0 & 3 & 17 & Low Contributor\\\\\n",
       "\\end{tabular}\n"
      ],
      "text/markdown": [
       "\n",
       "A tibble: 20 × 6\n",
       "\n",
       "| experience &lt;dbl&gt; | subscribe &lt;lgl&gt; | played_hours &lt;dbl&gt; | gender &lt;dbl&gt; | age &lt;dbl&gt; | contributor &lt;fct&gt; |\n",
       "|---|---|---|---|---|---|\n",
       "| 4 | TRUE |   0.0 | 2 | 19 | Low Contributor  |\n",
       "| 2 | TRUE |   0.0 | 2 | 17 | Low Contributor  |\n",
       "| 2 | TRUE |   1.0 | 3 | 17 | Low Contributor  |\n",
       "| 5 | TRUE |   2.2 | 3 | 24 | Low Contributor  |\n",
       "| 4 | TRUE | 218.1 | 4 | 20 | High Contributor |\n",
       "| ⋮ | ⋮ | ⋮ | ⋮ | ⋮ | ⋮ |\n",
       "| 5 |  TRUE | 0.0 | 3 | 17 | Low Contributor |\n",
       "| 1 | FALSE | 2.1 | 3 | 24 | Low Contributor |\n",
       "| 4 | FALSE | 0.1 | 3 | 18 | Low Contributor |\n",
       "| 5 |  TRUE | 0.1 | 2 | 44 | Low Contributor |\n",
       "| 1 |  TRUE | 0.0 | 3 | 17 | Low Contributor |\n",
       "\n"
      ],
      "text/plain": [
       "   experience subscribe played_hours gender age contributor     \n",
       "1  4          TRUE        0.0        2      19  Low Contributor \n",
       "2  2          TRUE        0.0        2      17  Low Contributor \n",
       "3  2          TRUE        1.0        3      17  Low Contributor \n",
       "4  5          TRUE        2.2        3      24  Low Contributor \n",
       "5  4          TRUE      218.1        4      20  High Contributor\n",
       "⋮  ⋮          ⋮         ⋮            ⋮      ⋮   ⋮               \n",
       "16 5           TRUE     0.0          3      17  Low Contributor \n",
       "17 1          FALSE     2.1          3      24  Low Contributor \n",
       "18 4          FALSE     0.1          3      18  Low Contributor \n",
       "19 5           TRUE     0.1          2      44  Low Contributor \n",
       "20 1           TRUE     0.0          3      17  Low Contributor "
      ]
     },
     "metadata": {},
     "output_type": "display_data"
    }
   ],
   "source": [
    "#set the seed for the project\n",
    "set.seed(2024) \n",
    "\n",
    "#Split the data into a train:test ratio of 1:9\n",
    "players_split <- initial_split(players_tidy, prop = 0.90, strata = contributor)  \n",
    "players_train <- training(players_split)   \n",
    "players_test <- testing(players_split)\n",
    "\n",
    "#show data sample\n",
    "players_train \n",
    "players_test"
   ]
  },
  {
   "cell_type": "code",
   "execution_count": null,
   "id": "e948317a-ab9a-453f-b8cb-dc9bf59b3371",
   "metadata": {},
   "outputs": [
    {
     "name": "stderr",
     "output_type": "stream",
     "text": [
      "\n",
      "\n",
      "\u001b[36m──\u001b[39m \u001b[1mRecipe\u001b[22m \u001b[36m──────────────────────────────────────────────────────────────────────\u001b[39m\n",
      "\n",
      "\n",
      "\n",
      "── Inputs \n",
      "\n",
      "Number of variables by role\n",
      "\n",
      "outcome:   1\n",
      "predictor: 3\n",
      "\n",
      "\n",
      "\n",
      "── Operations \n",
      "\n",
      "\u001b[36m•\u001b[39m Scaling for: \u001b[34mall_predictors()\u001b[39m\n",
      "\n",
      "\u001b[36m•\u001b[39m Centering for: \u001b[34mall_predictors()\u001b[39m\n",
      "\n",
      "\u001b[36m•\u001b[39m Up-sampling based on: \u001b[34mcontributor\u001b[39m\n",
      "\n"
     ]
    }
   ],
   "source": [
    "set.seed(2024)\n",
    "\n",
    "#model for k=3 \n",
    "\n",
    "\n",
    "#add recipe, use step_upsample to make high contributor data not so rare\n",
    "players_recipe <- recipe(contributor ~ gender + age + experience, data = players_train) |>\n",
    "    step_scale(all_predictors()) |>\n",
    "    step_center(all_predictors())|>\n",
    "    step_upsample(contributor, over_ratio = 1, skip = TRUE) \n",
    "\n",
    "\n",
    "players_recipe\n",
    "\n",
    "#add model, use initial neighbors 3\n",
    "knn_spec <- nearest_neighbor(weight_func = \"rectangular\", neighbors = 3) |>\n",
    "       set_engine(\"kknn\") |>\n",
    "       set_mode(\"classification\")\n",
    "\n",
    "#get in to workflow\n",
    "players_fit <- workflow() |>\n",
    "       add_recipe(players_recipe) |>\n",
    "       add_model(knn_spec) |>\n",
    "       fit(data = players_train)\n",
    "\n",
    "\n",
    "players_fit"
   ]
  },
  {
   "cell_type": "code",
   "execution_count": 1,
   "id": "9491ca03-4523-4e55-a4ed-27d2e4f649e8",
   "metadata": {},
   "outputs": [
    {
     "ename": "ERROR",
     "evalue": "Error in tibble(neighbors = seq(from = 1, to = 10, by = 1)): could not find function \"tibble\"\n",
     "output_type": "error",
     "traceback": [
      "Error in tibble(neighbors = seq(from = 1, to = 10, by = 1)): could not find function \"tibble\"\nTraceback:\n"
     ]
    }
   ],
   "source": [
    "set.seed(2024)\n",
    "\n",
    "#test k = 1 to 10\n",
    "k_vals <- tibble(neighbors = seq(from = 1, to = 10, by = 1))\n",
    "\n",
    "#create a 5fold cross-validation\n",
    "player_vfold <- vfold_cv(players_train, v = 5, strata = contributor)\n",
    "\n",
    "knn_spec <- nearest_neighbor(weight_func = \"rectangular\",\n",
    "                             neighbors = tune()) |>\n",
    "  set_engine(\"kknn\") |>\n",
    "  set_mode(\"classification\")\n",
    "\n",
    "knn_results <- workflow() |>\n",
    "  add_recipe(players_recipe) |>\n",
    "  add_model(knn_spec) |>\n",
    "  tune_grid(resamples = player_vfold, grid = k_vals) |>\n",
    "  collect_metrics()\n",
    "\n",
    "accuracies <- knn_results |>\n",
    "  filter(.metric == \"accuracy\")\n",
    "\n",
    "accuracies"
   ]
  },
  {
   "cell_type": "code",
   "execution_count": null,
   "id": "016f9b4e-ff63-467f-b2da-180ca72e23a9",
   "metadata": {},
   "outputs": [],
   "source": []
  },
  {
   "cell_type": "code",
   "execution_count": null,
   "id": "441d2f9b-b08d-477c-88f6-35d1b55c6a47",
   "metadata": {},
   "outputs": [],
   "source": []
  },
  {
   "cell_type": "code",
   "execution_count": null,
   "id": "8829fcaf-abd0-43bf-b28d-93c6581e6baf",
   "metadata": {},
   "outputs": [],
   "source": []
  }
 ],
 "metadata": {
  "kernelspec": {
   "display_name": "R",
   "language": "R",
   "name": "ir"
  },
  "language_info": {
   "codemirror_mode": "r",
   "file_extension": ".r",
   "mimetype": "text/x-r-source",
   "name": "R",
   "pygments_lexer": "r",
   "version": "4.3.3"
  }
 },
 "nbformat": 4,
 "nbformat_minor": 5
}
