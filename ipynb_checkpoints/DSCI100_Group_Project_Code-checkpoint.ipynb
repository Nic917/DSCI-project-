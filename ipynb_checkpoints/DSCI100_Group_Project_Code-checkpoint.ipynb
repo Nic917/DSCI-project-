{
 "cells": [
  {
   "cell_type": "code",
   "execution_count": null,
   "id": "32b0f39a-1b00-460f-af27-d8a84e79ad06",
   "metadata": {},
   "outputs": [],
   "source": [
    "#load the necessary packages\n",
    "library(repr)\n",
    "library(themis)\n",
    "library(tidyverse)\n",
    "library(tidymodels)\n",
    "options(repr.matrix.max.rows = 10)"
   ]
  },
  {
   "cell_type": "code",
   "execution_count": null,
   "id": "0b37c73d-a139-4d15-b2c1-0399d6dc6f0e",
   "metadata": {
    "editable": true,
    "slideshow": {
     "slide_type": ""
    },
    "tags": []
   },
   "outputs": [],
   "source": [
    "#load the players data set\n",
    "url <- \"https://drive.google.com/uc?export=download&id=1Mw9vW0hjTJwRWx0bDXiSpYsO3gKogaPz\"\n",
    "players <- read_csv(url)"
   ]
  },
  {
   "cell_type": "code",
   "execution_count": null,
   "id": "e4134eeb-1bec-4105-916c-41222b539863",
   "metadata": {},
   "outputs": [],
   "source": [
    "#convert the players data set into a tidy format by removing unnecessary columns\n",
    "players_tidy <- players |> \n",
    "    select(experience:age, -hashedEmail, -name) #|> #removed the hashedEmail and name columns\n",
    "    head(5) #print only the first 5 rows of the data set\n",
    "players_tidy"
   ]
  },
  {
   "cell_type": "code",
   "execution_count": null,
   "id": "ef687e5d-028a-4369-a931-769f81fa5582",
   "metadata": {},
   "outputs": [],
   "source": [
    "#calculate the average number of played hours to determine a boundary separating high and low contributors\n",
    "average_played_hours <- players_tidy |>\n",
    "  summarize(avg_hours = mean(played_hours, na.rm = TRUE)) |>\n",
    "    pull()\n",
    "\n",
    "\n",
    "print(paste(\"The average number of played hours:\", average_played_hours))"
   ]
  },
  {
   "cell_type": "markdown",
   "id": "1ded4190-903d-47de-abb7-5f9c3834ea6a",
   "metadata": {},
   "source": [
    "The above code output reveals that the average number of played hours in the players data set is 5.85 hours. Therefore, we will classify players who contributed 5.85 hours or more as \"High Contributors\" and players who contributed less than 5.85 hours as \"Low Contributors.\""
   ]
  },
  {
   "cell_type": "code",
   "execution_count": null,
   "id": "5ce0a84c-ac6b-410e-abdd-220d76b70b58",
   "metadata": {},
   "outputs": [],
   "source": [
    "#convert the character variables to factor variables so they can be used as categories for KNN classification\n",
    "players_tidy <- players_tidy |> \n",
    "    mutate(experience = as.factor(experience), \n",
    "           gender = as.factor(gender))"
   ]
  },
  {
   "cell_type": "code",
   "execution_count": null,
   "id": "90effde2-5b41-409a-8b4f-e63437294f60",
   "metadata": {},
   "outputs": [],
   "source": [
    "#assign numerical values to the experience, and gender variables so they can be used to calculate distances between points in KNN classification\n",
    "players_tidy <- players_tidy |> \n",
    "    mutate(experience = as.numeric(experience), \n",
    "           gender = as.numeric(gender))"
   ]
  },
  {
   "cell_type": "code",
   "execution_count": null,
   "id": "a792307a-337c-4308-a3d3-a011fd5aad78",
   "metadata": {},
   "outputs": [],
   "source": [
    "#assign a contributor label to each played hours value\n",
    "players_tidy <- players_tidy |> \n",
    "    mutate(contributor = factor(ifelse(played_hours > average_played_hours, \"High Contributor\", \"Low Contributor\"))) "
   ]
  },
  {
   "cell_type": "code",
   "execution_count": null,
   "id": "82b58bf7-355b-4f4c-b89e-4c682a2292b0",
   "metadata": {},
   "outputs": [],
   "source": [
    "#test if this works (can delete later) \n",
    "head(players_tidy)"
   ]
  },
  {
   "cell_type": "code",
   "execution_count": null,
   "id": "d30ae4c3-e699-46b0-b959-29536010780f",
   "metadata": {},
   "outputs": [],
   "source": [
    "#set the seed for the project\n",
    "set.seed(2024) \n",
    "\n",
    "#Split the data into a train:test ratio of 1:9\n",
    "players_split <- initial_split(players_tidy, prop = 0.90, strata = contributor)  \n",
    "players_train <- training(players_split)   \n",
    "players_test <- testing(players_split)\n",
    "\n",
    "#show data sample\n",
    "players_train \n",
    "players_test"
   ]
  },
  {
   "cell_type": "code",
   "execution_count": null,
   "id": "e948317a-ab9a-453f-b8cb-dc9bf59b3371",
   "metadata": {},
   "outputs": [],
   "source": [
    "set.seed(2024)\n",
    "\n",
    "#model for k=3 \n",
    "\n",
    "\n",
    "#add recipe, use step_upsample to make high contributor data not so rare\n",
    "players_recipe <- recipe(contributor ~ gender + age + experience, data = players_train) |>\n",
    "    step_scale(all_predictors()) |>\n",
    "    step_center(all_predictors())|>\n",
    "    step_upsample(contributor, over_ratio = 1, skip = TRUE) \n",
    "\n",
    "\n",
    "players_recipe\n",
    "\n",
    "#add model, use initial neighbors 3\n",
    "knn_spec <- nearest_neighbor(weight_func = \"rectangular\", neighbors = 3) |>\n",
    "       set_engine(\"kknn\") |>\n",
    "       set_mode(\"classification\")\n",
    "\n",
    "#get in to workflow\n",
    "players_fit <- workflow() |>\n",
    "       add_recipe(players_recipe) |>\n",
    "       add_model(knn_spec) |>\n",
    "       fit(data = players_train)\n",
    "\n",
    "\n",
    "players_fit"
   ]
  },
  {
   "cell_type": "code",
   "execution_count": null,
   "id": "9491ca03-4523-4e55-a4ed-27d2e4f649e8",
   "metadata": {},
   "outputs": [],
   "source": [
    "set.seed(2024)\n",
    "\n",
    "#test k = 1 to 10\n",
    "k_vals <- tibble(neighbors = seq(from = 1, to = 10, by = 1))\n",
    "\n",
    "#create a 5fold cross-validation\n",
    "player_vfold <- vfold_cv(players_train, v = 5, strata = contributor)\n",
    "\n",
    "knn_spec <- nearest_neighbor(weight_func = \"rectangular\",\n",
    "                             neighbors = tune()) |>\n",
    "  set_engine(\"kknn\") |>\n",
    "  set_mode(\"classification\")\n",
    "\n",
    "knn_results <- workflow() |>\n",
    "  add_recipe(players_recipe) |>\n",
    "  add_model(knn_spec) |>\n",
    "  tune_grid(resamples = player_vfold, grid = k_vals) |>\n",
    "  collect_metrics()\n",
    "\n",
    "accuracies <- knn_results |>\n",
    "  filter(.metric == \"accuracy\")\n",
    "\n",
    "accuracies"
   ]
  },
  {
   "cell_type": "code",
   "execution_count": null,
   "id": "016f9b4e-ff63-467f-b2da-180ca72e23a9",
   "metadata": {},
   "outputs": [],
   "source": []
  },
  {
   "cell_type": "code",
   "execution_count": null,
   "id": "441d2f9b-b08d-477c-88f6-35d1b55c6a47",
   "metadata": {},
   "outputs": [],
   "source": []
  },
  {
   "cell_type": "code",
   "execution_count": null,
   "id": "8829fcaf-abd0-43bf-b28d-93c6581e6baf",
   "metadata": {},
   "outputs": [],
   "source": []
  }
 ],
 "metadata": {
  "kernelspec": {
   "display_name": "R",
   "language": "R",
   "name": "ir"
  },
  "language_info": {
   "codemirror_mode": "r",
   "file_extension": ".r",
   "mimetype": "text/x-r-source",
   "name": "R",
   "pygments_lexer": "r",
   "version": "4.3.3"
  }
 },
 "nbformat": 4,
 "nbformat_minor": 5
}
