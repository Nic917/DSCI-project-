{
 "cells": [
  {
   "cell_type": "code",
   "execution_count": 9,
   "id": "32b0f39a-1b00-460f-af27-d8a84e79ad06",
   "metadata": {},
   "outputs": [],
   "source": [
    "#load the necessary packages\n",
    "library(repr)\n",
    "library(tidyverse)\n",
    "library(tidymodels)\n",
    "options(repr.matrix.max.rows = 10)"
   ]
  },
  {
   "cell_type": "code",
   "execution_count": 16,
   "id": "0b37c73d-a139-4d15-b2c1-0399d6dc6f0e",
   "metadata": {
    "editable": true,
    "slideshow": {
     "slide_type": ""
    },
    "tags": []
   },
   "outputs": [
    {
     "name": "stderr",
     "output_type": "stream",
     "text": [
      "\u001b[1mRows: \u001b[22m\u001b[34m196\u001b[39m \u001b[1mColumns: \u001b[22m\u001b[34m9\u001b[39m\n",
      "\u001b[36m──\u001b[39m \u001b[1mColumn specification\u001b[22m \u001b[36m────────────────────────────────────────────────────────\u001b[39m\n",
      "\u001b[1mDelimiter:\u001b[22m \",\"\n",
      "\u001b[31mchr\u001b[39m (4): experience, hashedEmail, name, gender\n",
      "\u001b[32mdbl\u001b[39m (2): played_hours, age\n",
      "\u001b[33mlgl\u001b[39m (3): subscribe, individualId, organizationName\n",
      "\n",
      "\u001b[36mℹ\u001b[39m Use `spec()` to retrieve the full column specification for this data.\n",
      "\u001b[36mℹ\u001b[39m Specify the column types or set `show_col_types = FALSE` to quiet this message.\n"
     ]
    }
   ],
   "source": [
    "#load the players data set\n",
    "url <- \"https://drive.google.com/uc?export=download&id=1Mw9vW0hjTJwRWx0bDXiSpYsO3gKogaPz\"\n",
    "players <- read_csv(url)"
   ]
  },
  {
   "cell_type": "code",
   "execution_count": 11,
   "id": "e4134eeb-1bec-4105-916c-41222b539863",
   "metadata": {},
   "outputs": [
    {
     "data": {
      "text/html": [
       "<table class=\"dataframe\">\n",
       "<caption>A tibble: 5 × 5</caption>\n",
       "<thead>\n",
       "\t<tr><th scope=col>experience</th><th scope=col>subscribe</th><th scope=col>played_hours</th><th scope=col>gender</th><th scope=col>age</th></tr>\n",
       "\t<tr><th scope=col>&lt;chr&gt;</th><th scope=col>&lt;lgl&gt;</th><th scope=col>&lt;dbl&gt;</th><th scope=col>&lt;chr&gt;</th><th scope=col>&lt;dbl&gt;</th></tr>\n",
       "</thead>\n",
       "<tbody>\n",
       "\t<tr><td>Pro    </td><td> TRUE</td><td>30.3</td><td>Male  </td><td> 9</td></tr>\n",
       "\t<tr><td>Veteran</td><td> TRUE</td><td> 3.8</td><td>Male  </td><td>17</td></tr>\n",
       "\t<tr><td>Veteran</td><td>FALSE</td><td> 0.0</td><td>Male  </td><td>17</td></tr>\n",
       "\t<tr><td>Amateur</td><td> TRUE</td><td> 0.7</td><td>Female</td><td>21</td></tr>\n",
       "\t<tr><td>Regular</td><td> TRUE</td><td> 0.1</td><td>Male  </td><td>21</td></tr>\n",
       "</tbody>\n",
       "</table>\n"
      ],
      "text/latex": [
       "A tibble: 5 × 5\n",
       "\\begin{tabular}{lllll}\n",
       " experience & subscribe & played\\_hours & gender & age\\\\\n",
       " <chr> & <lgl> & <dbl> & <chr> & <dbl>\\\\\n",
       "\\hline\n",
       "\t Pro     &  TRUE & 30.3 & Male   &  9\\\\\n",
       "\t Veteran &  TRUE &  3.8 & Male   & 17\\\\\n",
       "\t Veteran & FALSE &  0.0 & Male   & 17\\\\\n",
       "\t Amateur &  TRUE &  0.7 & Female & 21\\\\\n",
       "\t Regular &  TRUE &  0.1 & Male   & 21\\\\\n",
       "\\end{tabular}\n"
      ],
      "text/markdown": [
       "\n",
       "A tibble: 5 × 5\n",
       "\n",
       "| experience &lt;chr&gt; | subscribe &lt;lgl&gt; | played_hours &lt;dbl&gt; | gender &lt;chr&gt; | age &lt;dbl&gt; |\n",
       "|---|---|---|---|---|\n",
       "| Pro     |  TRUE | 30.3 | Male   |  9 |\n",
       "| Veteran |  TRUE |  3.8 | Male   | 17 |\n",
       "| Veteran | FALSE |  0.0 | Male   | 17 |\n",
       "| Amateur |  TRUE |  0.7 | Female | 21 |\n",
       "| Regular |  TRUE |  0.1 | Male   | 21 |\n",
       "\n"
      ],
      "text/plain": [
       "  experience subscribe played_hours gender age\n",
       "1 Pro         TRUE     30.3         Male    9 \n",
       "2 Veteran     TRUE      3.8         Male   17 \n",
       "3 Veteran    FALSE      0.0         Male   17 \n",
       "4 Amateur     TRUE      0.7         Female 21 \n",
       "5 Regular     TRUE      0.1         Male   21 "
      ]
     },
     "metadata": {},
     "output_type": "display_data"
    }
   ],
   "source": [
    "#convert the players data set into a tidy format by removing unnecessary columns\n",
    "players_tidy <- players |> \n",
    "    select(experience:age, -hashedEmail, -name) |> #removed the hashedEmail and name columns\n",
    "    head(5) #print only the first 5 rows of the data set\n",
    "players_tidy"
   ]
  },
  {
   "cell_type": "code",
   "execution_count": 4,
   "id": "ef687e5d-028a-4369-a931-769f81fa5582",
   "metadata": {},
   "outputs": [
    {
     "data": {
      "text/html": [
       "<table class=\"dataframe\">\n",
       "<caption>A tibble: 1 × 1</caption>\n",
       "<thead>\n",
       "\t<tr><th scope=col>avg_hours</th></tr>\n",
       "\t<tr><th scope=col>&lt;dbl&gt;</th></tr>\n",
       "</thead>\n",
       "<tbody>\n",
       "\t<tr><td>6.98</td></tr>\n",
       "</tbody>\n",
       "</table>\n"
      ],
      "text/latex": [
       "A tibble: 1 × 1\n",
       "\\begin{tabular}{l}\n",
       " avg\\_hours\\\\\n",
       " <dbl>\\\\\n",
       "\\hline\n",
       "\t 6.98\\\\\n",
       "\\end{tabular}\n"
      ],
      "text/markdown": [
       "\n",
       "A tibble: 1 × 1\n",
       "\n",
       "| avg_hours &lt;dbl&gt; |\n",
       "|---|\n",
       "| 6.98 |\n",
       "\n"
      ],
      "text/plain": [
       "  avg_hours\n",
       "1 6.98     "
      ]
     },
     "metadata": {},
     "output_type": "display_data"
    }
   ],
   "source": [
    "#calculate the average number of played hours to determine a boundary separating high and low contributors\n",
    "average_played_hours <- players_tidy |>\n",
    "  summarize(avg_hours = mean(played_hours, na.rm = TRUE))\n",
    "average_played_hours"
   ]
  },
  {
   "cell_type": "markdown",
   "id": "1ded4190-903d-47de-abb7-5f9c3834ea6a",
   "metadata": {},
   "source": [
    "The above code output reveals that the average number of played hours in the players data set is 6.98 hours. Therefore, we will classify players who contributed 6.98 hours or more as \"High Contributors\" and players who contributed less than 6.98 hours as \"Low Contributors.\""
   ]
  },
  {
   "cell_type": "code",
   "execution_count": 5,
   "id": "5ce0a84c-ac6b-410e-abdd-220d76b70b58",
   "metadata": {},
   "outputs": [],
   "source": [
    "#convert the character variables to factor variables so they can be used as categories for KNN classification\n",
    "players_tidy <- players_tidy |> \n",
    "    mutate(experience = as.factor(experience), \n",
    "           gender = as.factor(gender))"
   ]
  },
  {
   "cell_type": "code",
   "execution_count": 6,
   "id": "90effde2-5b41-409a-8b4f-e63437294f60",
   "metadata": {},
   "outputs": [],
   "source": [
    "#assign numerical values to the experience, and gender variables so they can be used to calculate distances between points in KNN classification\n",
    "players_tidy <- players_tidy |> \n",
    "    mutate(experience = as.numeric(experience), \n",
    "           gender = as.numeric(gender))"
   ]
  },
  {
   "cell_type": "code",
   "execution_count": 7,
   "id": "a792307a-337c-4308-a3d3-a011fd5aad78",
   "metadata": {},
   "outputs": [],
   "source": [
    "#assign a contributor label to each played hours value\n",
    "players_tidy <- players_tidy |> \n",
    "    mutate(contributor = ifelse(played_hours >= 6.98, \"High Contributor\", \"Low Contributor\")) "
   ]
  },
  {
   "cell_type": "code",
   "execution_count": 8,
   "id": "82b58bf7-355b-4f4c-b89e-4c682a2292b0",
   "metadata": {},
   "outputs": [
    {
     "data": {
      "text/html": [
       "<table class=\"dataframe\">\n",
       "<caption>A tibble: 5 × 6</caption>\n",
       "<thead>\n",
       "\t<tr><th scope=col>experience</th><th scope=col>subscribe</th><th scope=col>played_hours</th><th scope=col>gender</th><th scope=col>age</th><th scope=col>contributor</th></tr>\n",
       "\t<tr><th scope=col>&lt;dbl&gt;</th><th scope=col>&lt;lgl&gt;</th><th scope=col>&lt;dbl&gt;</th><th scope=col>&lt;dbl&gt;</th><th scope=col>&lt;dbl&gt;</th><th scope=col>&lt;chr&gt;</th></tr>\n",
       "</thead>\n",
       "<tbody>\n",
       "\t<tr><td>2</td><td> TRUE</td><td>30.3</td><td>2</td><td> 9</td><td>High Contributor</td></tr>\n",
       "\t<tr><td>4</td><td> TRUE</td><td> 3.8</td><td>2</td><td>17</td><td>Low Contributor </td></tr>\n",
       "\t<tr><td>4</td><td>FALSE</td><td> 0.0</td><td>2</td><td>17</td><td>Low Contributor </td></tr>\n",
       "\t<tr><td>1</td><td> TRUE</td><td> 0.7</td><td>1</td><td>21</td><td>Low Contributor </td></tr>\n",
       "\t<tr><td>3</td><td> TRUE</td><td> 0.1</td><td>2</td><td>21</td><td>Low Contributor </td></tr>\n",
       "</tbody>\n",
       "</table>\n"
      ],
      "text/latex": [
       "A tibble: 5 × 6\n",
       "\\begin{tabular}{llllll}\n",
       " experience & subscribe & played\\_hours & gender & age & contributor\\\\\n",
       " <dbl> & <lgl> & <dbl> & <dbl> & <dbl> & <chr>\\\\\n",
       "\\hline\n",
       "\t 2 &  TRUE & 30.3 & 2 &  9 & High Contributor\\\\\n",
       "\t 4 &  TRUE &  3.8 & 2 & 17 & Low Contributor \\\\\n",
       "\t 4 & FALSE &  0.0 & 2 & 17 & Low Contributor \\\\\n",
       "\t 1 &  TRUE &  0.7 & 1 & 21 & Low Contributor \\\\\n",
       "\t 3 &  TRUE &  0.1 & 2 & 21 & Low Contributor \\\\\n",
       "\\end{tabular}\n"
      ],
      "text/markdown": [
       "\n",
       "A tibble: 5 × 6\n",
       "\n",
       "| experience &lt;dbl&gt; | subscribe &lt;lgl&gt; | played_hours &lt;dbl&gt; | gender &lt;dbl&gt; | age &lt;dbl&gt; | contributor &lt;chr&gt; |\n",
       "|---|---|---|---|---|---|\n",
       "| 2 |  TRUE | 30.3 | 2 |  9 | High Contributor |\n",
       "| 4 |  TRUE |  3.8 | 2 | 17 | Low Contributor  |\n",
       "| 4 | FALSE |  0.0 | 2 | 17 | Low Contributor  |\n",
       "| 1 |  TRUE |  0.7 | 1 | 21 | Low Contributor  |\n",
       "| 3 |  TRUE |  0.1 | 2 | 21 | Low Contributor  |\n",
       "\n"
      ],
      "text/plain": [
       "  experience subscribe played_hours gender age contributor     \n",
       "1 2           TRUE     30.3         2       9  High Contributor\n",
       "2 4           TRUE      3.8         2      17  Low Contributor \n",
       "3 4          FALSE      0.0         2      17  Low Contributor \n",
       "4 1           TRUE      0.7         1      21  Low Contributor \n",
       "5 3           TRUE      0.1         2      21  Low Contributor "
      ]
     },
     "metadata": {},
     "output_type": "display_data"
    }
   ],
   "source": [
    "#test if this works (can delete later) \n",
    "head(players_tidy)"
   ]
  }
 ],
 "metadata": {
  "kernelspec": {
   "display_name": "R",
   "language": "R",
   "name": "ir"
  },
  "language_info": {
   "codemirror_mode": "r",
   "file_extension": ".r",
   "mimetype": "text/x-r-source",
   "name": "R",
   "pygments_lexer": "r",
   "version": "4.3.3"
  }
 },
 "nbformat": 4,
 "nbformat_minor": 5
}
